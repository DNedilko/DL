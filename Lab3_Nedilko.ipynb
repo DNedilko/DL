{
 "cells": [
  {
   "cell_type": "markdown",
   "metadata": {
    "collapsed": true,
    "pycharm": {
     "name": "#%% md\n"
    }
   },
   "source": [
    "# Лабораторна Робота 1\n",
    "### З дисципліни \"Методи глибинного навчання\"\n",
    "##### Виконала Неділько Дарина, група КМ-91\n",
    "##### Варіант 9\n",
    "**Тема:** «Нейромережеве розпізнавання кібератак»\n",
    "**Мета:** Розробка програмного забезпечення для реалізації нейронних мереж типу PNN та ДШП, призначених для розпізнавання кібератак, сигнатури яких представлені в базах даних KDD-99 або NLS KDD\n",
    "\n",
    "**Завдання:** Розпізнавання мережевої кібератаки типу imap за допомогою ДШП\n"
   ]
  },
  {
   "cell_type": "markdown",
   "metadata": {},
   "source": [
    "Для тренування нейронної мережі відбуватиметься на основі датасету KDD-99 або ж [KDD Cup 1999 Data](https://www.kaggle.com/datasets/galaxyh/kdd-cup-1999-data). Це датасет, у якому зберігається інформація про мережеві вторгнення. За умовою завдання ми будемо розглядати тільки записи з типом атаки **normal та imap**. Для початку завантажимо потрібні дані.\n",
    "\n",
    "Тренування відбувалося на пристрої з такими характеристиками: \n",
    " - процесор: Intel(R) Core(TM) i7-8550U CPU @ 1.80GHz   1.99 GHz\n",
    " - RAM : 16 GB / 15.9 usable\n",
    " - system type: 64-bit OS, x64-based processor\n",
    " - OS : Windows 11 Pro"
   ]
  },
  {
   "cell_type": "code",
   "execution_count": 1,
   "metadata": {
    "pycharm": {
     "name": "#%%\n"
    }
   },
   "outputs": [
    {
     "name": "stdout",
     "output_type": "stream",
     "text": [
      "Розмір датасету: параметри 42 та кількість записів 494021\n"
     ]
    }
   ],
   "source": [
    "from sklearn.model_selection import train_test_split\n",
    "import pandas as pd\n",
    "import numpy as np\n",
    "np.seterr(divide='ignore', invalid='ignore')\n",
    "\n",
    "# назви колонок датасету\n",
    "columns=['duration','protocol_type','service','flag','src_bytes','dst_bytes','land','wrong_fragment','urgent','hot','num_failed_logins','logged_in','num_compromised','root_shell',\n",
    "'su_attempted','num_root','num_file_creations','num_shells','num_access_files','num_outbound_cmds','is_host_login','is_guest_login','count','srv_count','serror_rate','srv_serror_rate','rerror_rate','srv_rerror_rate','same_srv_rate','diff_srv_rate','srv_diff_host_rate','dst_host_count','dst_host_srv_count','dst_host_same_srv_rate','dst_host_diff_srv_rate','dst_host_same_src_port_rate','dst_host_srv_diff_host_rate','dst_host_serror_rate','dst_host_srv_serror_rate','dst_host_rerror_rate','dst_host_srv_rerror_rate','attack_type']\n",
    "\n",
    "# дістаємо дані\n",
    "path = \"archive/kddcup.data_10_percent.gz\"\n",
    "data_uncleaned = pd.read_csv(path ,names=columns)\n",
    "print(f'Розмір датасету: параметри {data_uncleaned.shape[1]} та кількість записів {data_uncleaned.shape[0]}')\n"
   ]
  },
  {
   "cell_type": "markdown",
   "metadata": {},
   "source": [
    "Отримаємо потрібні типи атак imap. and normal. Дані характеризуються 41 вхідним та 1 вихідним параметром. Вихідним параметром виступа attack_type. Шматок даних нижче(з типом imap):"
   ]
  },
  {
   "cell_type": "code",
   "execution_count": 2,
   "metadata": {
    "pycharm": {
     "name": "#%%\n"
    },
    "scrolled": true
   },
   "outputs": [
    {
     "name": "stdout",
     "output_type": "stream",
     "text": [
      "Данi для типу imap.: \n",
      "\n"
     ]
    },
    {
     "data": {
      "text/plain": "       duration protocol_type service flag  src_bytes  dst_bytes  land  \\\n40723        31           tcp   imap4   SF       1345      10036     0   \n76313         0           tcp   imap4   SH          0          0     0   \n76314         0           tcp   imap4   SH          0          0     0   \n76315         0           tcp   imap4   SF          0          0     0   \n76316         0           tcp   imap4   SF          0          0     0   \n76317        41           tcp   imap4   SF       1334        162     0   \n76318         0           tcp   imap4   S0          0          0     0   \n76319         0           tcp   imap4   SH          0          0     0   \n76320         0           tcp   imap4   SH          0          0     0   \n76321         0           tcp   imap4   SF          0          0     0   \n76322         0           tcp   imap4   SF          0          0     0   \n76323         0           tcp   imap4   S1       1492     649186     0   \n\n       wrong_fragment  urgent  hot  ...  dst_host_srv_count  \\\n40723               0       0    0  ...                   1   \n76313               0       0    0  ...                   1   \n76314               0       0    0  ...                   2   \n76315               0       0    0  ...                   3   \n76316               0       0    2  ...                   4   \n76317               0       0    0  ...                   5   \n76318               0       0    0  ...                   6   \n76319               0       0    0  ...                   7   \n76320               0       0    0  ...                   8   \n76321               0       0    0  ...                   9   \n76322               0       0    2  ...                  10   \n76323               0       0    0  ...                  11   \n\n       dst_host_same_srv_rate  dst_host_diff_srv_rate  \\\n40723                     0.0                    0.01   \n76313                     1.0                    0.00   \n76314                     1.0                    0.00   \n76315                     1.0                    0.00   \n76316                     1.0                    0.00   \n76317                     1.0                    0.00   \n76318                     1.0                    0.00   \n76319                     1.0                    0.00   \n76320                     1.0                    0.00   \n76321                     1.0                    0.00   \n76322                     1.0                    0.00   \n76323                     1.0                    0.00   \n\n       dst_host_same_src_port_rate  dst_host_srv_diff_host_rate  \\\n40723                         0.00                          0.0   \n76313                         1.00                          0.0   \n76314                         1.00                          0.0   \n76315                         1.00                          0.0   \n76316                         1.00                          0.0   \n76317                         0.20                          0.0   \n76318                         0.17                          0.0   \n76319                         0.71                          0.0   \n76320                         0.75                          0.0   \n76321                         0.78                          0.0   \n76322                         0.80                          0.0   \n76323                         0.09                          0.0   \n\n       dst_host_serror_rate  dst_host_srv_serror_rate  dst_host_rerror_rate  \\\n40723                  0.00                      0.00                  0.03   \n76313                  1.00                      1.00                  0.00   \n76314                  1.00                      1.00                  0.00   \n76315                  0.67                      0.67                  0.00   \n76316                  0.50                      0.50                  0.00   \n76317                  0.40                      0.40                  0.00   \n76318                  0.50                      0.50                  0.00   \n76319                  0.57                      0.57                  0.00   \n76320                  0.62                      0.62                  0.00   \n76321                  0.56                      0.56                  0.00   \n76322                  0.50                      0.50                  0.00   \n76323                  0.55                      0.55                  0.00   \n\n       dst_host_srv_rerror_rate  attack_type  \n40723                       0.0        imap.  \n76313                       0.0        imap.  \n76314                       0.0        imap.  \n76315                       0.0        imap.  \n76316                       0.0        imap.  \n76317                       0.0        imap.  \n76318                       0.0        imap.  \n76319                       0.0        imap.  \n76320                       0.0        imap.  \n76321                       0.0        imap.  \n76322                       0.0        imap.  \n76323                       0.0        imap.  \n\n[12 rows x 42 columns]",
      "text/html": "<div>\n<style scoped>\n    .dataframe tbody tr th:only-of-type {\n        vertical-align: middle;\n    }\n\n    .dataframe tbody tr th {\n        vertical-align: top;\n    }\n\n    .dataframe thead th {\n        text-align: right;\n    }\n</style>\n<table border=\"1\" class=\"dataframe\">\n  <thead>\n    <tr style=\"text-align: right;\">\n      <th></th>\n      <th>duration</th>\n      <th>protocol_type</th>\n      <th>service</th>\n      <th>flag</th>\n      <th>src_bytes</th>\n      <th>dst_bytes</th>\n      <th>land</th>\n      <th>wrong_fragment</th>\n      <th>urgent</th>\n      <th>hot</th>\n      <th>...</th>\n      <th>dst_host_srv_count</th>\n      <th>dst_host_same_srv_rate</th>\n      <th>dst_host_diff_srv_rate</th>\n      <th>dst_host_same_src_port_rate</th>\n      <th>dst_host_srv_diff_host_rate</th>\n      <th>dst_host_serror_rate</th>\n      <th>dst_host_srv_serror_rate</th>\n      <th>dst_host_rerror_rate</th>\n      <th>dst_host_srv_rerror_rate</th>\n      <th>attack_type</th>\n    </tr>\n  </thead>\n  <tbody>\n    <tr>\n      <th>40723</th>\n      <td>31</td>\n      <td>tcp</td>\n      <td>imap4</td>\n      <td>SF</td>\n      <td>1345</td>\n      <td>10036</td>\n      <td>0</td>\n      <td>0</td>\n      <td>0</td>\n      <td>0</td>\n      <td>...</td>\n      <td>1</td>\n      <td>0.0</td>\n      <td>0.01</td>\n      <td>0.00</td>\n      <td>0.0</td>\n      <td>0.00</td>\n      <td>0.00</td>\n      <td>0.03</td>\n      <td>0.0</td>\n      <td>imap.</td>\n    </tr>\n    <tr>\n      <th>76313</th>\n      <td>0</td>\n      <td>tcp</td>\n      <td>imap4</td>\n      <td>SH</td>\n      <td>0</td>\n      <td>0</td>\n      <td>0</td>\n      <td>0</td>\n      <td>0</td>\n      <td>0</td>\n      <td>...</td>\n      <td>1</td>\n      <td>1.0</td>\n      <td>0.00</td>\n      <td>1.00</td>\n      <td>0.0</td>\n      <td>1.00</td>\n      <td>1.00</td>\n      <td>0.00</td>\n      <td>0.0</td>\n      <td>imap.</td>\n    </tr>\n    <tr>\n      <th>76314</th>\n      <td>0</td>\n      <td>tcp</td>\n      <td>imap4</td>\n      <td>SH</td>\n      <td>0</td>\n      <td>0</td>\n      <td>0</td>\n      <td>0</td>\n      <td>0</td>\n      <td>0</td>\n      <td>...</td>\n      <td>2</td>\n      <td>1.0</td>\n      <td>0.00</td>\n      <td>1.00</td>\n      <td>0.0</td>\n      <td>1.00</td>\n      <td>1.00</td>\n      <td>0.00</td>\n      <td>0.0</td>\n      <td>imap.</td>\n    </tr>\n    <tr>\n      <th>76315</th>\n      <td>0</td>\n      <td>tcp</td>\n      <td>imap4</td>\n      <td>SF</td>\n      <td>0</td>\n      <td>0</td>\n      <td>0</td>\n      <td>0</td>\n      <td>0</td>\n      <td>0</td>\n      <td>...</td>\n      <td>3</td>\n      <td>1.0</td>\n      <td>0.00</td>\n      <td>1.00</td>\n      <td>0.0</td>\n      <td>0.67</td>\n      <td>0.67</td>\n      <td>0.00</td>\n      <td>0.0</td>\n      <td>imap.</td>\n    </tr>\n    <tr>\n      <th>76316</th>\n      <td>0</td>\n      <td>tcp</td>\n      <td>imap4</td>\n      <td>SF</td>\n      <td>0</td>\n      <td>0</td>\n      <td>0</td>\n      <td>0</td>\n      <td>0</td>\n      <td>2</td>\n      <td>...</td>\n      <td>4</td>\n      <td>1.0</td>\n      <td>0.00</td>\n      <td>1.00</td>\n      <td>0.0</td>\n      <td>0.50</td>\n      <td>0.50</td>\n      <td>0.00</td>\n      <td>0.0</td>\n      <td>imap.</td>\n    </tr>\n    <tr>\n      <th>76317</th>\n      <td>41</td>\n      <td>tcp</td>\n      <td>imap4</td>\n      <td>SF</td>\n      <td>1334</td>\n      <td>162</td>\n      <td>0</td>\n      <td>0</td>\n      <td>0</td>\n      <td>0</td>\n      <td>...</td>\n      <td>5</td>\n      <td>1.0</td>\n      <td>0.00</td>\n      <td>0.20</td>\n      <td>0.0</td>\n      <td>0.40</td>\n      <td>0.40</td>\n      <td>0.00</td>\n      <td>0.0</td>\n      <td>imap.</td>\n    </tr>\n    <tr>\n      <th>76318</th>\n      <td>0</td>\n      <td>tcp</td>\n      <td>imap4</td>\n      <td>S0</td>\n      <td>0</td>\n      <td>0</td>\n      <td>0</td>\n      <td>0</td>\n      <td>0</td>\n      <td>0</td>\n      <td>...</td>\n      <td>6</td>\n      <td>1.0</td>\n      <td>0.00</td>\n      <td>0.17</td>\n      <td>0.0</td>\n      <td>0.50</td>\n      <td>0.50</td>\n      <td>0.00</td>\n      <td>0.0</td>\n      <td>imap.</td>\n    </tr>\n    <tr>\n      <th>76319</th>\n      <td>0</td>\n      <td>tcp</td>\n      <td>imap4</td>\n      <td>SH</td>\n      <td>0</td>\n      <td>0</td>\n      <td>0</td>\n      <td>0</td>\n      <td>0</td>\n      <td>0</td>\n      <td>...</td>\n      <td>7</td>\n      <td>1.0</td>\n      <td>0.00</td>\n      <td>0.71</td>\n      <td>0.0</td>\n      <td>0.57</td>\n      <td>0.57</td>\n      <td>0.00</td>\n      <td>0.0</td>\n      <td>imap.</td>\n    </tr>\n    <tr>\n      <th>76320</th>\n      <td>0</td>\n      <td>tcp</td>\n      <td>imap4</td>\n      <td>SH</td>\n      <td>0</td>\n      <td>0</td>\n      <td>0</td>\n      <td>0</td>\n      <td>0</td>\n      <td>0</td>\n      <td>...</td>\n      <td>8</td>\n      <td>1.0</td>\n      <td>0.00</td>\n      <td>0.75</td>\n      <td>0.0</td>\n      <td>0.62</td>\n      <td>0.62</td>\n      <td>0.00</td>\n      <td>0.0</td>\n      <td>imap.</td>\n    </tr>\n    <tr>\n      <th>76321</th>\n      <td>0</td>\n      <td>tcp</td>\n      <td>imap4</td>\n      <td>SF</td>\n      <td>0</td>\n      <td>0</td>\n      <td>0</td>\n      <td>0</td>\n      <td>0</td>\n      <td>0</td>\n      <td>...</td>\n      <td>9</td>\n      <td>1.0</td>\n      <td>0.00</td>\n      <td>0.78</td>\n      <td>0.0</td>\n      <td>0.56</td>\n      <td>0.56</td>\n      <td>0.00</td>\n      <td>0.0</td>\n      <td>imap.</td>\n    </tr>\n    <tr>\n      <th>76322</th>\n      <td>0</td>\n      <td>tcp</td>\n      <td>imap4</td>\n      <td>SF</td>\n      <td>0</td>\n      <td>0</td>\n      <td>0</td>\n      <td>0</td>\n      <td>0</td>\n      <td>2</td>\n      <td>...</td>\n      <td>10</td>\n      <td>1.0</td>\n      <td>0.00</td>\n      <td>0.80</td>\n      <td>0.0</td>\n      <td>0.50</td>\n      <td>0.50</td>\n      <td>0.00</td>\n      <td>0.0</td>\n      <td>imap.</td>\n    </tr>\n    <tr>\n      <th>76323</th>\n      <td>0</td>\n      <td>tcp</td>\n      <td>imap4</td>\n      <td>S1</td>\n      <td>1492</td>\n      <td>649186</td>\n      <td>0</td>\n      <td>0</td>\n      <td>0</td>\n      <td>0</td>\n      <td>...</td>\n      <td>11</td>\n      <td>1.0</td>\n      <td>0.00</td>\n      <td>0.09</td>\n      <td>0.0</td>\n      <td>0.55</td>\n      <td>0.55</td>\n      <td>0.00</td>\n      <td>0.0</td>\n      <td>imap.</td>\n    </tr>\n  </tbody>\n</table>\n<p>12 rows × 42 columns</p>\n</div>"
     },
     "execution_count": 2,
     "metadata": {},
     "output_type": "execute_result"
    }
   ],
   "source": [
    "print(f'Данi для типу imap.: \\n')\n",
    "data_uncleaned[data_uncleaned.attack_type == 'imap.']"
   ]
  },
  {
   "cell_type": "markdown",
   "metadata": {},
   "source": [
    "Оскільки у нас всього 12 прикладів цієї атаки, тоб збалансуємо вибірку, зменшивши представників атаки normal. Наприклад 1:3, тобто для 'normal.' буде 36 записів, а для 'imap.' 12."
   ]
  },
  {
   "cell_type": "code",
   "execution_count": 3,
   "metadata": {},
   "outputs": [
    {
     "name": "stdout",
     "output_type": "stream",
     "text": [
      "Отриманий у ході перетворень датасет: \n",
      "\n"
     ]
    },
    {
     "data": {
      "text/plain": "       duration protocol_type service flag  src_bytes  dst_bytes  land  \\\n76316         0           tcp   imap4   SF          0          0     0   \n21            0           tcp    http   SF        234        255     0   \n20            0           tcp    http   SF        256       1273     0   \n14            0           tcp    http   SF        241        259     0   \n76317        41           tcp   imap4   SF       1334        162     0   \n76320         0           tcp   imap4   SH          0          0     0   \n8             0           tcp    http   SF        210        151     0   \n76323         0           tcp   imap4   S1       1492     649186     0   \n27            0           tcp    http   SF        193       3991     0   \n76314         0           tcp   imap4   SH          0          0     0   \n\n       wrong_fragment  urgent  hot  ...  dst_host_srv_count  \\\n76316               0       0    2  ...                   4   \n21                  0       0    0  ...                 219   \n20                  0       0    0  ...                 209   \n14                  0       0    0  ...                 149   \n76317               0       0    0  ...                   5   \n76320               0       0    0  ...                   8   \n8                   0       0    0  ...                  89   \n76323               0       0    0  ...                  11   \n27                  0       0    0  ...                 255   \n76314               0       0    0  ...                   2   \n\n       dst_host_same_srv_rate  dst_host_diff_srv_rate  \\\n76316                     1.0                     0.0   \n21                        1.0                     0.0   \n20                        1.0                     0.0   \n14                        1.0                     0.0   \n76317                     1.0                     0.0   \n76320                     1.0                     0.0   \n8                         1.0                     0.0   \n76323                     1.0                     0.0   \n27                        1.0                     0.0   \n76314                     1.0                     0.0   \n\n       dst_host_same_src_port_rate  dst_host_srv_diff_host_rate  \\\n76316                         1.00                         0.00   \n21                            0.01                         0.03   \n20                            0.01                         0.03   \n14                            0.07                         0.04   \n76317                         0.20                         0.00   \n76320                         0.75                         0.00   \n8                             0.12                         0.04   \n76323                         0.09                         0.00   \n27                            1.00                         0.05   \n76314                         1.00                         0.00   \n\n       dst_host_serror_rate  dst_host_srv_serror_rate  dst_host_rerror_rate  \\\n76316                  0.50                      0.50                   0.0   \n21                     0.00                      0.00                   0.0   \n20                     0.00                      0.00                   0.0   \n14                     0.00                      0.00                   0.0   \n76317                  0.40                      0.40                   0.0   \n76320                  0.62                      0.62                   0.0   \n8                      0.00                      0.00                   0.0   \n76323                  0.55                      0.55                   0.0   \n27                     0.00                      0.00                   0.0   \n76314                  1.00                      1.00                   0.0   \n\n       dst_host_srv_rerror_rate  attack_type  \n76316                       0.0        imap.  \n21                          0.0      normal.  \n20                          0.0      normal.  \n14                          0.0      normal.  \n76317                       0.0        imap.  \n76320                       0.0        imap.  \n8                           0.0      normal.  \n76323                       0.0        imap.  \n27                          0.0      normal.  \n76314                       0.0        imap.  \n\n[10 rows x 42 columns]",
      "text/html": "<div>\n<style scoped>\n    .dataframe tbody tr th:only-of-type {\n        vertical-align: middle;\n    }\n\n    .dataframe tbody tr th {\n        vertical-align: top;\n    }\n\n    .dataframe thead th {\n        text-align: right;\n    }\n</style>\n<table border=\"1\" class=\"dataframe\">\n  <thead>\n    <tr style=\"text-align: right;\">\n      <th></th>\n      <th>duration</th>\n      <th>protocol_type</th>\n      <th>service</th>\n      <th>flag</th>\n      <th>src_bytes</th>\n      <th>dst_bytes</th>\n      <th>land</th>\n      <th>wrong_fragment</th>\n      <th>urgent</th>\n      <th>hot</th>\n      <th>...</th>\n      <th>dst_host_srv_count</th>\n      <th>dst_host_same_srv_rate</th>\n      <th>dst_host_diff_srv_rate</th>\n      <th>dst_host_same_src_port_rate</th>\n      <th>dst_host_srv_diff_host_rate</th>\n      <th>dst_host_serror_rate</th>\n      <th>dst_host_srv_serror_rate</th>\n      <th>dst_host_rerror_rate</th>\n      <th>dst_host_srv_rerror_rate</th>\n      <th>attack_type</th>\n    </tr>\n  </thead>\n  <tbody>\n    <tr>\n      <th>76316</th>\n      <td>0</td>\n      <td>tcp</td>\n      <td>imap4</td>\n      <td>SF</td>\n      <td>0</td>\n      <td>0</td>\n      <td>0</td>\n      <td>0</td>\n      <td>0</td>\n      <td>2</td>\n      <td>...</td>\n      <td>4</td>\n      <td>1.0</td>\n      <td>0.0</td>\n      <td>1.00</td>\n      <td>0.00</td>\n      <td>0.50</td>\n      <td>0.50</td>\n      <td>0.0</td>\n      <td>0.0</td>\n      <td>imap.</td>\n    </tr>\n    <tr>\n      <th>21</th>\n      <td>0</td>\n      <td>tcp</td>\n      <td>http</td>\n      <td>SF</td>\n      <td>234</td>\n      <td>255</td>\n      <td>0</td>\n      <td>0</td>\n      <td>0</td>\n      <td>0</td>\n      <td>...</td>\n      <td>219</td>\n      <td>1.0</td>\n      <td>0.0</td>\n      <td>0.01</td>\n      <td>0.03</td>\n      <td>0.00</td>\n      <td>0.00</td>\n      <td>0.0</td>\n      <td>0.0</td>\n      <td>normal.</td>\n    </tr>\n    <tr>\n      <th>20</th>\n      <td>0</td>\n      <td>tcp</td>\n      <td>http</td>\n      <td>SF</td>\n      <td>256</td>\n      <td>1273</td>\n      <td>0</td>\n      <td>0</td>\n      <td>0</td>\n      <td>0</td>\n      <td>...</td>\n      <td>209</td>\n      <td>1.0</td>\n      <td>0.0</td>\n      <td>0.01</td>\n      <td>0.03</td>\n      <td>0.00</td>\n      <td>0.00</td>\n      <td>0.0</td>\n      <td>0.0</td>\n      <td>normal.</td>\n    </tr>\n    <tr>\n      <th>14</th>\n      <td>0</td>\n      <td>tcp</td>\n      <td>http</td>\n      <td>SF</td>\n      <td>241</td>\n      <td>259</td>\n      <td>0</td>\n      <td>0</td>\n      <td>0</td>\n      <td>0</td>\n      <td>...</td>\n      <td>149</td>\n      <td>1.0</td>\n      <td>0.0</td>\n      <td>0.07</td>\n      <td>0.04</td>\n      <td>0.00</td>\n      <td>0.00</td>\n      <td>0.0</td>\n      <td>0.0</td>\n      <td>normal.</td>\n    </tr>\n    <tr>\n      <th>76317</th>\n      <td>41</td>\n      <td>tcp</td>\n      <td>imap4</td>\n      <td>SF</td>\n      <td>1334</td>\n      <td>162</td>\n      <td>0</td>\n      <td>0</td>\n      <td>0</td>\n      <td>0</td>\n      <td>...</td>\n      <td>5</td>\n      <td>1.0</td>\n      <td>0.0</td>\n      <td>0.20</td>\n      <td>0.00</td>\n      <td>0.40</td>\n      <td>0.40</td>\n      <td>0.0</td>\n      <td>0.0</td>\n      <td>imap.</td>\n    </tr>\n    <tr>\n      <th>76320</th>\n      <td>0</td>\n      <td>tcp</td>\n      <td>imap4</td>\n      <td>SH</td>\n      <td>0</td>\n      <td>0</td>\n      <td>0</td>\n      <td>0</td>\n      <td>0</td>\n      <td>0</td>\n      <td>...</td>\n      <td>8</td>\n      <td>1.0</td>\n      <td>0.0</td>\n      <td>0.75</td>\n      <td>0.00</td>\n      <td>0.62</td>\n      <td>0.62</td>\n      <td>0.0</td>\n      <td>0.0</td>\n      <td>imap.</td>\n    </tr>\n    <tr>\n      <th>8</th>\n      <td>0</td>\n      <td>tcp</td>\n      <td>http</td>\n      <td>SF</td>\n      <td>210</td>\n      <td>151</td>\n      <td>0</td>\n      <td>0</td>\n      <td>0</td>\n      <td>0</td>\n      <td>...</td>\n      <td>89</td>\n      <td>1.0</td>\n      <td>0.0</td>\n      <td>0.12</td>\n      <td>0.04</td>\n      <td>0.00</td>\n      <td>0.00</td>\n      <td>0.0</td>\n      <td>0.0</td>\n      <td>normal.</td>\n    </tr>\n    <tr>\n      <th>76323</th>\n      <td>0</td>\n      <td>tcp</td>\n      <td>imap4</td>\n      <td>S1</td>\n      <td>1492</td>\n      <td>649186</td>\n      <td>0</td>\n      <td>0</td>\n      <td>0</td>\n      <td>0</td>\n      <td>...</td>\n      <td>11</td>\n      <td>1.0</td>\n      <td>0.0</td>\n      <td>0.09</td>\n      <td>0.00</td>\n      <td>0.55</td>\n      <td>0.55</td>\n      <td>0.0</td>\n      <td>0.0</td>\n      <td>imap.</td>\n    </tr>\n    <tr>\n      <th>27</th>\n      <td>0</td>\n      <td>tcp</td>\n      <td>http</td>\n      <td>SF</td>\n      <td>193</td>\n      <td>3991</td>\n      <td>0</td>\n      <td>0</td>\n      <td>0</td>\n      <td>0</td>\n      <td>...</td>\n      <td>255</td>\n      <td>1.0</td>\n      <td>0.0</td>\n      <td>1.00</td>\n      <td>0.05</td>\n      <td>0.00</td>\n      <td>0.00</td>\n      <td>0.0</td>\n      <td>0.0</td>\n      <td>normal.</td>\n    </tr>\n    <tr>\n      <th>76314</th>\n      <td>0</td>\n      <td>tcp</td>\n      <td>imap4</td>\n      <td>SH</td>\n      <td>0</td>\n      <td>0</td>\n      <td>0</td>\n      <td>0</td>\n      <td>0</td>\n      <td>0</td>\n      <td>...</td>\n      <td>2</td>\n      <td>1.0</td>\n      <td>0.0</td>\n      <td>1.00</td>\n      <td>0.00</td>\n      <td>1.00</td>\n      <td>1.00</td>\n      <td>0.0</td>\n      <td>0.0</td>\n      <td>imap.</td>\n    </tr>\n  </tbody>\n</table>\n<p>10 rows × 42 columns</p>\n</div>"
     },
     "execution_count": 3,
     "metadata": {},
     "output_type": "execute_result"
    }
   ],
   "source": [
    "d1_normal = data_uncleaned[data_uncleaned.attack_type == 'normal.'].head(36)\n",
    "d2_imap = data_uncleaned[data_uncleaned.attack_type == 'imap.']\n",
    "\n",
    "selected_data = pd.concat([d1_normal,d2_imap]).sample(frac = 1)\n",
    "print(f'Отриманий у ході перетворень датасет: \\n')\n",
    "selected_data.head(10)"
   ]
  },
  {
   "cell_type": "markdown",
   "metadata": {},
   "source": [
    "Для початку треба розібратися з тим, що означають вхідні параметри:\n",
    "- Duration: тривалість з'єднання ;\n",
    "- protocol_type: тип протоколу з'єднання;\n",
    "- service: служба та порт призначення;\n",
    "- src_bytes: кількість байтів від джерела до призначення;\n",
    "- dst_bytes: кількість байтів від призначення до джерела;\n",
    "- flag: стату підключення(помилка\\успішне);\n",
    "- land: 1 якщо з'єднання з\\до того ж хоста\\порта;\n",
    "- wrong_fragment: кількість \"поганих\" фрагментів;\n",
    "- urgent: кількість термінових пакунків;\n",
    "- hot: кількість \"гарячих\" індикаторів;\n",
    "- num_failed_logins: кількість провалених спроб залогінитися;\n",
    "- logged_in: 1 успішний логін, 0 неуспішний;\n",
    "- num_compromised: кількість скомпроментованих пунктів;\n",
    "- num_compromised: кількість скомпроментованих пунктів;\n",
    "- root_shell: 1 якщо отримана коренева оболонка / 0 в іншому випадку;\n",
    "- su_attempted: 1 при спробі команди «su root»/ 0 в іншому випадк;\n",
    "- num_root: кількість «root» доступів;\n",
    "- num_file_creations: кількість операцій створення файлів;\n",
    "- num_shells: кількість підказок оболонки;\n",
    "- num_access_files: кількість операцій з файлами контролю доступу;\n",
    "- num_outbound_cmds: кількість вихідних команд у сеансі ftp;\n",
    "- is_hot_login: 1, якщо логін належить до «hot» списку, 0 в іншому випадку;\n",
    "- is_guest_login: 1, якщо логін є «guest» логіном/ 0 в іншому випадку;\n",
    "- \n",
    ".\n",
    ".\n",
    ".\n",
    "\n",
    "\n"
   ]
  },
  {
   "cell_type": "markdown",
   "metadata": {},
   "source": [
    "Тепер закодуємо параметри, що представлені у текстовому форматі. Для початку виведемо їх:"
   ]
  },
  {
   "cell_type": "code",
   "execution_count": 4,
   "metadata": {
    "pycharm": {
     "name": "#%%\n"
    }
   },
   "outputs": [
    {
     "data": {
      "text/plain": "['protocol_type', 'service', 'flag', 'attack_type']"
     },
     "execution_count": 4,
     "metadata": {},
     "output_type": "execute_result"
    }
   ],
   "source": [
    "to_code = list(selected_data.select_dtypes(include=['object']).columns)\n",
    "to_code"
   ]
  },
  {
   "cell_type": "markdown",
   "metadata": {},
   "source": [
    "Тепер створюємо словник з кодуваннями для кожного текстового поля."
   ]
  },
  {
   "cell_type": "code",
   "execution_count": 5,
   "metadata": {
    "pycharm": {
     "name": "#%%\n"
    }
   },
   "outputs": [
    {
     "name": "stdout",
     "output_type": "stream",
     "text": [
      "protocol_type :\n",
      "\t\t{'tcp': 0}\n",
      "\n",
      "service :\n",
      "\t\t{'imap4': 0, 'http': 1}\n",
      "\n",
      "flag :\n",
      "\t\t{'SF': 0, 'SH': 1, 'S1': 2, 'S0': 3}\n",
      "\n",
      "attack_type :\n",
      "\t\t{'imap.': 0, 'normal.': 1}\n",
      "\n"
     ]
    }
   ],
   "source": [
    "\n",
    "coders_nested = dict()\n",
    "for point in to_code:\n",
    "    coders_nested[point]={}\n",
    "    for i,name in enumerate(selected_data[point].unique()):\n",
    "        coders_nested[point][name] = i\n",
    "\n",
    "for p in coders_nested: print(f'{p} :\\n\\t\\t{coders_nested[p]}\\n')"
   ]
  },
  {
   "cell_type": "markdown",
   "metadata": {},
   "source": [
    "Тепер кодуємо сам датасет"
   ]
  },
  {
   "cell_type": "code",
   "execution_count": 6,
   "metadata": {
    "pycharm": {
     "name": "#%%\n"
    }
   },
   "outputs": [
    {
     "name": "stdout",
     "output_type": "stream",
     "text": [
      "protocol_type\n",
      "service\n",
      "flag\n",
      "attack_type\n"
     ]
    },
    {
     "data": {
      "text/plain": "   duration  protocol_type  service  flag  src_bytes  dst_bytes  land  \\\n0         0              0        0     0          0          0     0   \n1         0              0        1     0        234        255     0   \n2         0              0        1     0        256       1273     0   \n3         0              0        1     0        241        259     0   \n4        41              0        0     0       1334        162     0   \n5         0              0        0     1          0          0     0   \n6         0              0        1     0        210        151     0   \n7         0              0        0     2       1492     649186     0   \n8         0              0        1     0        193       3991     0   \n9         0              0        0     1          0          0     0   \n\n   wrong_fragment  urgent  hot  ...  dst_host_srv_count  \\\n0               0       0    2  ...                   4   \n1               0       0    0  ...                 219   \n2               0       0    0  ...                 209   \n3               0       0    0  ...                 149   \n4               0       0    0  ...                   5   \n5               0       0    0  ...                   8   \n6               0       0    0  ...                  89   \n7               0       0    0  ...                  11   \n8               0       0    0  ...                 255   \n9               0       0    0  ...                   2   \n\n   dst_host_same_srv_rate  dst_host_diff_srv_rate  \\\n0                     1.0                     0.0   \n1                     1.0                     0.0   \n2                     1.0                     0.0   \n3                     1.0                     0.0   \n4                     1.0                     0.0   \n5                     1.0                     0.0   \n6                     1.0                     0.0   \n7                     1.0                     0.0   \n8                     1.0                     0.0   \n9                     1.0                     0.0   \n\n   dst_host_same_src_port_rate  dst_host_srv_diff_host_rate  \\\n0                         1.00                         0.00   \n1                         0.01                         0.03   \n2                         0.01                         0.03   \n3                         0.07                         0.04   \n4                         0.20                         0.00   \n5                         0.75                         0.00   \n6                         0.12                         0.04   \n7                         0.09                         0.00   \n8                         1.00                         0.05   \n9                         1.00                         0.00   \n\n   dst_host_serror_rate  dst_host_srv_serror_rate  dst_host_rerror_rate  \\\n0                  0.50                      0.50                   0.0   \n1                  0.00                      0.00                   0.0   \n2                  0.00                      0.00                   0.0   \n3                  0.00                      0.00                   0.0   \n4                  0.40                      0.40                   0.0   \n5                  0.62                      0.62                   0.0   \n6                  0.00                      0.00                   0.0   \n7                  0.55                      0.55                   0.0   \n8                  0.00                      0.00                   0.0   \n9                  1.00                      1.00                   0.0   \n\n   dst_host_srv_rerror_rate  attack_type  \n0                       0.0            0  \n1                       0.0            1  \n2                       0.0            1  \n3                       0.0            1  \n4                       0.0            0  \n5                       0.0            0  \n6                       0.0            1  \n7                       0.0            0  \n8                       0.0            1  \n9                       0.0            0  \n\n[10 rows x 42 columns]",
      "text/html": "<div>\n<style scoped>\n    .dataframe tbody tr th:only-of-type {\n        vertical-align: middle;\n    }\n\n    .dataframe tbody tr th {\n        vertical-align: top;\n    }\n\n    .dataframe thead th {\n        text-align: right;\n    }\n</style>\n<table border=\"1\" class=\"dataframe\">\n  <thead>\n    <tr style=\"text-align: right;\">\n      <th></th>\n      <th>duration</th>\n      <th>protocol_type</th>\n      <th>service</th>\n      <th>flag</th>\n      <th>src_bytes</th>\n      <th>dst_bytes</th>\n      <th>land</th>\n      <th>wrong_fragment</th>\n      <th>urgent</th>\n      <th>hot</th>\n      <th>...</th>\n      <th>dst_host_srv_count</th>\n      <th>dst_host_same_srv_rate</th>\n      <th>dst_host_diff_srv_rate</th>\n      <th>dst_host_same_src_port_rate</th>\n      <th>dst_host_srv_diff_host_rate</th>\n      <th>dst_host_serror_rate</th>\n      <th>dst_host_srv_serror_rate</th>\n      <th>dst_host_rerror_rate</th>\n      <th>dst_host_srv_rerror_rate</th>\n      <th>attack_type</th>\n    </tr>\n  </thead>\n  <tbody>\n    <tr>\n      <th>0</th>\n      <td>0</td>\n      <td>0</td>\n      <td>0</td>\n      <td>0</td>\n      <td>0</td>\n      <td>0</td>\n      <td>0</td>\n      <td>0</td>\n      <td>0</td>\n      <td>2</td>\n      <td>...</td>\n      <td>4</td>\n      <td>1.0</td>\n      <td>0.0</td>\n      <td>1.00</td>\n      <td>0.00</td>\n      <td>0.50</td>\n      <td>0.50</td>\n      <td>0.0</td>\n      <td>0.0</td>\n      <td>0</td>\n    </tr>\n    <tr>\n      <th>1</th>\n      <td>0</td>\n      <td>0</td>\n      <td>1</td>\n      <td>0</td>\n      <td>234</td>\n      <td>255</td>\n      <td>0</td>\n      <td>0</td>\n      <td>0</td>\n      <td>0</td>\n      <td>...</td>\n      <td>219</td>\n      <td>1.0</td>\n      <td>0.0</td>\n      <td>0.01</td>\n      <td>0.03</td>\n      <td>0.00</td>\n      <td>0.00</td>\n      <td>0.0</td>\n      <td>0.0</td>\n      <td>1</td>\n    </tr>\n    <tr>\n      <th>2</th>\n      <td>0</td>\n      <td>0</td>\n      <td>1</td>\n      <td>0</td>\n      <td>256</td>\n      <td>1273</td>\n      <td>0</td>\n      <td>0</td>\n      <td>0</td>\n      <td>0</td>\n      <td>...</td>\n      <td>209</td>\n      <td>1.0</td>\n      <td>0.0</td>\n      <td>0.01</td>\n      <td>0.03</td>\n      <td>0.00</td>\n      <td>0.00</td>\n      <td>0.0</td>\n      <td>0.0</td>\n      <td>1</td>\n    </tr>\n    <tr>\n      <th>3</th>\n      <td>0</td>\n      <td>0</td>\n      <td>1</td>\n      <td>0</td>\n      <td>241</td>\n      <td>259</td>\n      <td>0</td>\n      <td>0</td>\n      <td>0</td>\n      <td>0</td>\n      <td>...</td>\n      <td>149</td>\n      <td>1.0</td>\n      <td>0.0</td>\n      <td>0.07</td>\n      <td>0.04</td>\n      <td>0.00</td>\n      <td>0.00</td>\n      <td>0.0</td>\n      <td>0.0</td>\n      <td>1</td>\n    </tr>\n    <tr>\n      <th>4</th>\n      <td>41</td>\n      <td>0</td>\n      <td>0</td>\n      <td>0</td>\n      <td>1334</td>\n      <td>162</td>\n      <td>0</td>\n      <td>0</td>\n      <td>0</td>\n      <td>0</td>\n      <td>...</td>\n      <td>5</td>\n      <td>1.0</td>\n      <td>0.0</td>\n      <td>0.20</td>\n      <td>0.00</td>\n      <td>0.40</td>\n      <td>0.40</td>\n      <td>0.0</td>\n      <td>0.0</td>\n      <td>0</td>\n    </tr>\n    <tr>\n      <th>5</th>\n      <td>0</td>\n      <td>0</td>\n      <td>0</td>\n      <td>1</td>\n      <td>0</td>\n      <td>0</td>\n      <td>0</td>\n      <td>0</td>\n      <td>0</td>\n      <td>0</td>\n      <td>...</td>\n      <td>8</td>\n      <td>1.0</td>\n      <td>0.0</td>\n      <td>0.75</td>\n      <td>0.00</td>\n      <td>0.62</td>\n      <td>0.62</td>\n      <td>0.0</td>\n      <td>0.0</td>\n      <td>0</td>\n    </tr>\n    <tr>\n      <th>6</th>\n      <td>0</td>\n      <td>0</td>\n      <td>1</td>\n      <td>0</td>\n      <td>210</td>\n      <td>151</td>\n      <td>0</td>\n      <td>0</td>\n      <td>0</td>\n      <td>0</td>\n      <td>...</td>\n      <td>89</td>\n      <td>1.0</td>\n      <td>0.0</td>\n      <td>0.12</td>\n      <td>0.04</td>\n      <td>0.00</td>\n      <td>0.00</td>\n      <td>0.0</td>\n      <td>0.0</td>\n      <td>1</td>\n    </tr>\n    <tr>\n      <th>7</th>\n      <td>0</td>\n      <td>0</td>\n      <td>0</td>\n      <td>2</td>\n      <td>1492</td>\n      <td>649186</td>\n      <td>0</td>\n      <td>0</td>\n      <td>0</td>\n      <td>0</td>\n      <td>...</td>\n      <td>11</td>\n      <td>1.0</td>\n      <td>0.0</td>\n      <td>0.09</td>\n      <td>0.00</td>\n      <td>0.55</td>\n      <td>0.55</td>\n      <td>0.0</td>\n      <td>0.0</td>\n      <td>0</td>\n    </tr>\n    <tr>\n      <th>8</th>\n      <td>0</td>\n      <td>0</td>\n      <td>1</td>\n      <td>0</td>\n      <td>193</td>\n      <td>3991</td>\n      <td>0</td>\n      <td>0</td>\n      <td>0</td>\n      <td>0</td>\n      <td>...</td>\n      <td>255</td>\n      <td>1.0</td>\n      <td>0.0</td>\n      <td>1.00</td>\n      <td>0.05</td>\n      <td>0.00</td>\n      <td>0.00</td>\n      <td>0.0</td>\n      <td>0.0</td>\n      <td>1</td>\n    </tr>\n    <tr>\n      <th>9</th>\n      <td>0</td>\n      <td>0</td>\n      <td>0</td>\n      <td>1</td>\n      <td>0</td>\n      <td>0</td>\n      <td>0</td>\n      <td>0</td>\n      <td>0</td>\n      <td>0</td>\n      <td>...</td>\n      <td>2</td>\n      <td>1.0</td>\n      <td>0.0</td>\n      <td>1.00</td>\n      <td>0.00</td>\n      <td>1.00</td>\n      <td>1.00</td>\n      <td>0.0</td>\n      <td>0.0</td>\n      <td>0</td>\n    </tr>\n  </tbody>\n</table>\n<p>10 rows × 42 columns</p>\n</div>"
     },
     "execution_count": 6,
     "metadata": {},
     "output_type": "execute_result"
    }
   ],
   "source": [
    "coded_df = selected_data.reset_index(drop = True)\n",
    "\n",
    "for p in coders_nested:\n",
    "    print(p)\n",
    "#     coded_df[p]=coded_df[p].astype(str)\n",
    "    coded_df[p] = coded_df[p].replace(coders_nested[p])\n",
    "coded_df.head(10)\n"
   ]
  },
  {
   "cell_type": "markdown",
   "metadata": {},
   "source": [
    "Тепер проведемо нормалізацію параметрів за формулою: $$X*=\\frac{X-min(X)}{max(X)-min(X)}$$"
   ]
  },
  {
   "cell_type": "code",
   "execution_count": 7,
   "metadata": {
    "pycharm": {
     "name": "#%%\n"
    }
   },
   "outputs": [
    {
     "data": {
      "text/plain": "   duration  protocol_type  service      flag  src_bytes  dst_bytes  land  \\\n0       1.0            NaN      1.0  1.000000   1.000000   1.000000   NaN   \n1       1.0            NaN     -0.0  1.000000   0.843164   0.999607   NaN   \n2       1.0            NaN     -0.0  1.000000   0.828418   0.998039   NaN   \n3       1.0            NaN     -0.0  1.000000   0.838472   0.999601   NaN   \n4      -0.0            NaN      1.0  1.000000   0.105898   0.999750   NaN   \n5       1.0            NaN      1.0  0.666667   1.000000   1.000000   NaN   \n6       1.0            NaN     -0.0  1.000000   0.859249   0.999767   NaN   \n7       1.0            NaN      1.0  0.333333  -0.000000  -0.000000   NaN   \n8       1.0            NaN     -0.0  1.000000   0.870643   0.993852   NaN   \n9       1.0            NaN      1.0  0.666667   1.000000   1.000000   NaN   \n\n   wrong_fragment  urgent  hot  ...  dst_host_srv_count  \\\n0             NaN     NaN -0.0  ...            0.988189   \n1             NaN     NaN  1.0  ...            0.141732   \n2             NaN     NaN  1.0  ...            0.181102   \n3             NaN     NaN  1.0  ...            0.417323   \n4             NaN     NaN  1.0  ...            0.984252   \n5             NaN     NaN  1.0  ...            0.972441   \n6             NaN     NaN  1.0  ...            0.653543   \n7             NaN     NaN  1.0  ...            0.960630   \n8             NaN     NaN  1.0  ...           -0.000000   \n9             NaN     NaN  1.0  ...            0.996063   \n\n   dst_host_same_srv_rate  dst_host_diff_srv_rate  \\\n0                    -0.0                     1.0   \n1                    -0.0                     1.0   \n2                    -0.0                     1.0   \n3                    -0.0                     1.0   \n4                    -0.0                     1.0   \n5                    -0.0                     1.0   \n6                    -0.0                     1.0   \n7                    -0.0                     1.0   \n8                    -0.0                     1.0   \n9                    -0.0                     1.0   \n\n   dst_host_same_src_port_rate  dst_host_srv_diff_host_rate  \\\n0                        -0.00                          1.0   \n1                         0.99                          0.4   \n2                         0.99                          0.4   \n3                         0.93                          0.2   \n4                         0.80                          1.0   \n5                         0.25                          1.0   \n6                         0.88                          0.2   \n7                         0.91                          1.0   \n8                        -0.00                         -0.0   \n9                        -0.00                          1.0   \n\n   dst_host_serror_rate  dst_host_srv_serror_rate  dst_host_rerror_rate  \\\n0                  0.50                      0.50                   1.0   \n1                  1.00                      1.00                   1.0   \n2                  1.00                      1.00                   1.0   \n3                  1.00                      1.00                   1.0   \n4                  0.60                      0.60                   1.0   \n5                  0.38                      0.38                   1.0   \n6                  1.00                      1.00                   1.0   \n7                  0.45                      0.45                   1.0   \n8                  1.00                      1.00                   1.0   \n9                 -0.00                     -0.00                   1.0   \n\n   dst_host_srv_rerror_rate  attack_type  \n0                       NaN          1.0  \n1                       NaN         -0.0  \n2                       NaN         -0.0  \n3                       NaN         -0.0  \n4                       NaN          1.0  \n5                       NaN          1.0  \n6                       NaN         -0.0  \n7                       NaN          1.0  \n8                       NaN         -0.0  \n9                       NaN          1.0  \n\n[10 rows x 42 columns]",
      "text/html": "<div>\n<style scoped>\n    .dataframe tbody tr th:only-of-type {\n        vertical-align: middle;\n    }\n\n    .dataframe tbody tr th {\n        vertical-align: top;\n    }\n\n    .dataframe thead th {\n        text-align: right;\n    }\n</style>\n<table border=\"1\" class=\"dataframe\">\n  <thead>\n    <tr style=\"text-align: right;\">\n      <th></th>\n      <th>duration</th>\n      <th>protocol_type</th>\n      <th>service</th>\n      <th>flag</th>\n      <th>src_bytes</th>\n      <th>dst_bytes</th>\n      <th>land</th>\n      <th>wrong_fragment</th>\n      <th>urgent</th>\n      <th>hot</th>\n      <th>...</th>\n      <th>dst_host_srv_count</th>\n      <th>dst_host_same_srv_rate</th>\n      <th>dst_host_diff_srv_rate</th>\n      <th>dst_host_same_src_port_rate</th>\n      <th>dst_host_srv_diff_host_rate</th>\n      <th>dst_host_serror_rate</th>\n      <th>dst_host_srv_serror_rate</th>\n      <th>dst_host_rerror_rate</th>\n      <th>dst_host_srv_rerror_rate</th>\n      <th>attack_type</th>\n    </tr>\n  </thead>\n  <tbody>\n    <tr>\n      <th>0</th>\n      <td>1.0</td>\n      <td>NaN</td>\n      <td>1.0</td>\n      <td>1.000000</td>\n      <td>1.000000</td>\n      <td>1.000000</td>\n      <td>NaN</td>\n      <td>NaN</td>\n      <td>NaN</td>\n      <td>-0.0</td>\n      <td>...</td>\n      <td>0.988189</td>\n      <td>-0.0</td>\n      <td>1.0</td>\n      <td>-0.00</td>\n      <td>1.0</td>\n      <td>0.50</td>\n      <td>0.50</td>\n      <td>1.0</td>\n      <td>NaN</td>\n      <td>1.0</td>\n    </tr>\n    <tr>\n      <th>1</th>\n      <td>1.0</td>\n      <td>NaN</td>\n      <td>-0.0</td>\n      <td>1.000000</td>\n      <td>0.843164</td>\n      <td>0.999607</td>\n      <td>NaN</td>\n      <td>NaN</td>\n      <td>NaN</td>\n      <td>1.0</td>\n      <td>...</td>\n      <td>0.141732</td>\n      <td>-0.0</td>\n      <td>1.0</td>\n      <td>0.99</td>\n      <td>0.4</td>\n      <td>1.00</td>\n      <td>1.00</td>\n      <td>1.0</td>\n      <td>NaN</td>\n      <td>-0.0</td>\n    </tr>\n    <tr>\n      <th>2</th>\n      <td>1.0</td>\n      <td>NaN</td>\n      <td>-0.0</td>\n      <td>1.000000</td>\n      <td>0.828418</td>\n      <td>0.998039</td>\n      <td>NaN</td>\n      <td>NaN</td>\n      <td>NaN</td>\n      <td>1.0</td>\n      <td>...</td>\n      <td>0.181102</td>\n      <td>-0.0</td>\n      <td>1.0</td>\n      <td>0.99</td>\n      <td>0.4</td>\n      <td>1.00</td>\n      <td>1.00</td>\n      <td>1.0</td>\n      <td>NaN</td>\n      <td>-0.0</td>\n    </tr>\n    <tr>\n      <th>3</th>\n      <td>1.0</td>\n      <td>NaN</td>\n      <td>-0.0</td>\n      <td>1.000000</td>\n      <td>0.838472</td>\n      <td>0.999601</td>\n      <td>NaN</td>\n      <td>NaN</td>\n      <td>NaN</td>\n      <td>1.0</td>\n      <td>...</td>\n      <td>0.417323</td>\n      <td>-0.0</td>\n      <td>1.0</td>\n      <td>0.93</td>\n      <td>0.2</td>\n      <td>1.00</td>\n      <td>1.00</td>\n      <td>1.0</td>\n      <td>NaN</td>\n      <td>-0.0</td>\n    </tr>\n    <tr>\n      <th>4</th>\n      <td>-0.0</td>\n      <td>NaN</td>\n      <td>1.0</td>\n      <td>1.000000</td>\n      <td>0.105898</td>\n      <td>0.999750</td>\n      <td>NaN</td>\n      <td>NaN</td>\n      <td>NaN</td>\n      <td>1.0</td>\n      <td>...</td>\n      <td>0.984252</td>\n      <td>-0.0</td>\n      <td>1.0</td>\n      <td>0.80</td>\n      <td>1.0</td>\n      <td>0.60</td>\n      <td>0.60</td>\n      <td>1.0</td>\n      <td>NaN</td>\n      <td>1.0</td>\n    </tr>\n    <tr>\n      <th>5</th>\n      <td>1.0</td>\n      <td>NaN</td>\n      <td>1.0</td>\n      <td>0.666667</td>\n      <td>1.000000</td>\n      <td>1.000000</td>\n      <td>NaN</td>\n      <td>NaN</td>\n      <td>NaN</td>\n      <td>1.0</td>\n      <td>...</td>\n      <td>0.972441</td>\n      <td>-0.0</td>\n      <td>1.0</td>\n      <td>0.25</td>\n      <td>1.0</td>\n      <td>0.38</td>\n      <td>0.38</td>\n      <td>1.0</td>\n      <td>NaN</td>\n      <td>1.0</td>\n    </tr>\n    <tr>\n      <th>6</th>\n      <td>1.0</td>\n      <td>NaN</td>\n      <td>-0.0</td>\n      <td>1.000000</td>\n      <td>0.859249</td>\n      <td>0.999767</td>\n      <td>NaN</td>\n      <td>NaN</td>\n      <td>NaN</td>\n      <td>1.0</td>\n      <td>...</td>\n      <td>0.653543</td>\n      <td>-0.0</td>\n      <td>1.0</td>\n      <td>0.88</td>\n      <td>0.2</td>\n      <td>1.00</td>\n      <td>1.00</td>\n      <td>1.0</td>\n      <td>NaN</td>\n      <td>-0.0</td>\n    </tr>\n    <tr>\n      <th>7</th>\n      <td>1.0</td>\n      <td>NaN</td>\n      <td>1.0</td>\n      <td>0.333333</td>\n      <td>-0.000000</td>\n      <td>-0.000000</td>\n      <td>NaN</td>\n      <td>NaN</td>\n      <td>NaN</td>\n      <td>1.0</td>\n      <td>...</td>\n      <td>0.960630</td>\n      <td>-0.0</td>\n      <td>1.0</td>\n      <td>0.91</td>\n      <td>1.0</td>\n      <td>0.45</td>\n      <td>0.45</td>\n      <td>1.0</td>\n      <td>NaN</td>\n      <td>1.0</td>\n    </tr>\n    <tr>\n      <th>8</th>\n      <td>1.0</td>\n      <td>NaN</td>\n      <td>-0.0</td>\n      <td>1.000000</td>\n      <td>0.870643</td>\n      <td>0.993852</td>\n      <td>NaN</td>\n      <td>NaN</td>\n      <td>NaN</td>\n      <td>1.0</td>\n      <td>...</td>\n      <td>-0.000000</td>\n      <td>-0.0</td>\n      <td>1.0</td>\n      <td>-0.00</td>\n      <td>-0.0</td>\n      <td>1.00</td>\n      <td>1.00</td>\n      <td>1.0</td>\n      <td>NaN</td>\n      <td>-0.0</td>\n    </tr>\n    <tr>\n      <th>9</th>\n      <td>1.0</td>\n      <td>NaN</td>\n      <td>1.0</td>\n      <td>0.666667</td>\n      <td>1.000000</td>\n      <td>1.000000</td>\n      <td>NaN</td>\n      <td>NaN</td>\n      <td>NaN</td>\n      <td>1.0</td>\n      <td>...</td>\n      <td>0.996063</td>\n      <td>-0.0</td>\n      <td>1.0</td>\n      <td>-0.00</td>\n      <td>1.0</td>\n      <td>-0.00</td>\n      <td>-0.00</td>\n      <td>1.0</td>\n      <td>NaN</td>\n      <td>1.0</td>\n    </tr>\n  </tbody>\n</table>\n<p>10 rows × 42 columns</p>\n</div>"
     },
     "execution_count": 7,
     "metadata": {},
     "output_type": "execute_result"
    }
   ],
   "source": [
    "for param in coded_df:\n",
    "    mins = coded_df[param].max()\n",
    "    maxs = coded_df[param].min()\n",
    "#     print(f'\\nParameter {param} \\n -> min {mins} and max {maxs}')\n",
    "    coded_df[param]= coded_df[param].map(lambda x: (x-mins)/(maxs-mins))\n",
    "\n",
    "coded_df.head(10)"
   ]
  },
  {
   "cell_type": "markdown",
   "metadata": {},
   "source": [
    "У нас є колонки з порожніми значеннями, для тренування моделі вони не матимуть користі, тому було прийнято рішення їх видалити. А також розділимо датасет на feachures та ladels."
   ]
  },
  {
   "cell_type": "code",
   "execution_count": 8,
   "metadata": {
    "scrolled": true
   },
   "outputs": [
    {
     "data": {
      "text/plain": "   duration  service  flag  src_bytes  dst_bytes  hot  logged_in  \\\n0       1.0      1.0   1.0   1.000000   1.000000 -0.0        1.0   \n1       1.0     -0.0   1.0   0.843164   0.999607  1.0       -0.0   \n2       1.0     -0.0   1.0   0.828418   0.998039  1.0       -0.0   \n3       1.0     -0.0   1.0   0.838472   0.999601  1.0       -0.0   \n4      -0.0      1.0   1.0   0.105898   0.999750  1.0        1.0   \n\n   num_compromised  num_root     count  ...  dst_host_count  \\\n0              1.0       1.0  0.863636  ...        0.988189   \n1              1.0       1.0  0.818182  ...        0.673228   \n2              1.0       1.0  0.272727  ...        0.712598   \n3              1.0       1.0  1.000000  ...        0.948819   \n4              1.0       1.0  1.000000  ...        0.984252   \n\n   dst_host_srv_count  dst_host_same_srv_rate  dst_host_diff_srv_rate  \\\n0            0.988189                    -0.0                     1.0   \n1            0.141732                    -0.0                     1.0   \n2            0.181102                    -0.0                     1.0   \n3            0.417323                    -0.0                     1.0   \n4            0.984252                    -0.0                     1.0   \n\n   dst_host_same_src_port_rate  dst_host_srv_diff_host_rate  \\\n0                        -0.00                          1.0   \n1                         0.99                          0.4   \n2                         0.99                          0.4   \n3                         0.93                          0.2   \n4                         0.80                          1.0   \n\n   dst_host_serror_rate  dst_host_srv_serror_rate  dst_host_rerror_rate  \\\n0                   0.5                       0.5                   1.0   \n1                   1.0                       1.0                   1.0   \n2                   1.0                       1.0                   1.0   \n3                   1.0                       1.0                   1.0   \n4                   0.6                       0.6                   1.0   \n\n   attack_type  \n0          1.0  \n1         -0.0  \n2         -0.0  \n3         -0.0  \n4          1.0  \n\n[5 rows x 25 columns]",
      "text/html": "<div>\n<style scoped>\n    .dataframe tbody tr th:only-of-type {\n        vertical-align: middle;\n    }\n\n    .dataframe tbody tr th {\n        vertical-align: top;\n    }\n\n    .dataframe thead th {\n        text-align: right;\n    }\n</style>\n<table border=\"1\" class=\"dataframe\">\n  <thead>\n    <tr style=\"text-align: right;\">\n      <th></th>\n      <th>duration</th>\n      <th>service</th>\n      <th>flag</th>\n      <th>src_bytes</th>\n      <th>dst_bytes</th>\n      <th>hot</th>\n      <th>logged_in</th>\n      <th>num_compromised</th>\n      <th>num_root</th>\n      <th>count</th>\n      <th>...</th>\n      <th>dst_host_count</th>\n      <th>dst_host_srv_count</th>\n      <th>dst_host_same_srv_rate</th>\n      <th>dst_host_diff_srv_rate</th>\n      <th>dst_host_same_src_port_rate</th>\n      <th>dst_host_srv_diff_host_rate</th>\n      <th>dst_host_serror_rate</th>\n      <th>dst_host_srv_serror_rate</th>\n      <th>dst_host_rerror_rate</th>\n      <th>attack_type</th>\n    </tr>\n  </thead>\n  <tbody>\n    <tr>\n      <th>0</th>\n      <td>1.0</td>\n      <td>1.0</td>\n      <td>1.0</td>\n      <td>1.000000</td>\n      <td>1.000000</td>\n      <td>-0.0</td>\n      <td>1.0</td>\n      <td>1.0</td>\n      <td>1.0</td>\n      <td>0.863636</td>\n      <td>...</td>\n      <td>0.988189</td>\n      <td>0.988189</td>\n      <td>-0.0</td>\n      <td>1.0</td>\n      <td>-0.00</td>\n      <td>1.0</td>\n      <td>0.5</td>\n      <td>0.5</td>\n      <td>1.0</td>\n      <td>1.0</td>\n    </tr>\n    <tr>\n      <th>1</th>\n      <td>1.0</td>\n      <td>-0.0</td>\n      <td>1.0</td>\n      <td>0.843164</td>\n      <td>0.999607</td>\n      <td>1.0</td>\n      <td>-0.0</td>\n      <td>1.0</td>\n      <td>1.0</td>\n      <td>0.818182</td>\n      <td>...</td>\n      <td>0.673228</td>\n      <td>0.141732</td>\n      <td>-0.0</td>\n      <td>1.0</td>\n      <td>0.99</td>\n      <td>0.4</td>\n      <td>1.0</td>\n      <td>1.0</td>\n      <td>1.0</td>\n      <td>-0.0</td>\n    </tr>\n    <tr>\n      <th>2</th>\n      <td>1.0</td>\n      <td>-0.0</td>\n      <td>1.0</td>\n      <td>0.828418</td>\n      <td>0.998039</td>\n      <td>1.0</td>\n      <td>-0.0</td>\n      <td>1.0</td>\n      <td>1.0</td>\n      <td>0.272727</td>\n      <td>...</td>\n      <td>0.712598</td>\n      <td>0.181102</td>\n      <td>-0.0</td>\n      <td>1.0</td>\n      <td>0.99</td>\n      <td>0.4</td>\n      <td>1.0</td>\n      <td>1.0</td>\n      <td>1.0</td>\n      <td>-0.0</td>\n    </tr>\n    <tr>\n      <th>3</th>\n      <td>1.0</td>\n      <td>-0.0</td>\n      <td>1.0</td>\n      <td>0.838472</td>\n      <td>0.999601</td>\n      <td>1.0</td>\n      <td>-0.0</td>\n      <td>1.0</td>\n      <td>1.0</td>\n      <td>1.000000</td>\n      <td>...</td>\n      <td>0.948819</td>\n      <td>0.417323</td>\n      <td>-0.0</td>\n      <td>1.0</td>\n      <td>0.93</td>\n      <td>0.2</td>\n      <td>1.0</td>\n      <td>1.0</td>\n      <td>1.0</td>\n      <td>-0.0</td>\n    </tr>\n    <tr>\n      <th>4</th>\n      <td>-0.0</td>\n      <td>1.0</td>\n      <td>1.0</td>\n      <td>0.105898</td>\n      <td>0.999750</td>\n      <td>1.0</td>\n      <td>1.0</td>\n      <td>1.0</td>\n      <td>1.0</td>\n      <td>1.000000</td>\n      <td>...</td>\n      <td>0.984252</td>\n      <td>0.984252</td>\n      <td>-0.0</td>\n      <td>1.0</td>\n      <td>0.80</td>\n      <td>1.0</td>\n      <td>0.6</td>\n      <td>0.6</td>\n      <td>1.0</td>\n      <td>1.0</td>\n    </tr>\n  </tbody>\n</table>\n<p>5 rows × 25 columns</p>\n</div>"
     },
     "execution_count": 8,
     "metadata": {},
     "output_type": "execute_result"
    }
   ],
   "source": [
    "df_xy = coded_df.dropna(axis=1)\n",
    "df_y = df_xy.attack_type\n",
    "df_x = df_xy.drop(columns=['attack_type'])\n",
    "\n",
    "df_xy.head(5)"
   ]
  },
  {
   "cell_type": "code",
   "execution_count": 9,
   "metadata": {},
   "outputs": [
    {
     "data": {
      "text/plain": "   duration  service  flag  src_bytes  dst_bytes  hot  logged_in  \\\n0       1.0      1.0   1.0   1.000000   1.000000 -0.0        1.0   \n1       1.0     -0.0   1.0   0.843164   0.999607  1.0       -0.0   \n2       1.0     -0.0   1.0   0.828418   0.998039  1.0       -0.0   \n3       1.0     -0.0   1.0   0.838472   0.999601  1.0       -0.0   \n4      -0.0      1.0   1.0   0.105898   0.999750  1.0        1.0   \n\n   num_compromised  num_root     count  ...  srv_diff_host_rate  \\\n0              1.0       1.0  0.863636  ...                0.72   \n1              1.0       1.0  0.818182  ...                1.00   \n2              1.0       1.0  0.272727  ...                1.00   \n3              1.0       1.0  1.000000  ...                1.00   \n4              1.0       1.0  1.000000  ...                1.00   \n\n   dst_host_count  dst_host_srv_count  dst_host_same_srv_rate  \\\n0        0.988189            0.988189                    -0.0   \n1        0.673228            0.141732                    -0.0   \n2        0.712598            0.181102                    -0.0   \n3        0.948819            0.417323                    -0.0   \n4        0.984252            0.984252                    -0.0   \n\n   dst_host_diff_srv_rate  dst_host_same_src_port_rate  \\\n0                     1.0                        -0.00   \n1                     1.0                         0.99   \n2                     1.0                         0.99   \n3                     1.0                         0.93   \n4                     1.0                         0.80   \n\n   dst_host_srv_diff_host_rate  dst_host_serror_rate  \\\n0                          1.0                   0.5   \n1                          0.4                   1.0   \n2                          0.4                   1.0   \n3                          0.2                   1.0   \n4                          1.0                   0.6   \n\n   dst_host_srv_serror_rate  dst_host_rerror_rate  \n0                       0.5                   1.0  \n1                       1.0                   1.0  \n2                       1.0                   1.0  \n3                       1.0                   1.0  \n4                       0.6                   1.0  \n\n[5 rows x 24 columns]",
      "text/html": "<div>\n<style scoped>\n    .dataframe tbody tr th:only-of-type {\n        vertical-align: middle;\n    }\n\n    .dataframe tbody tr th {\n        vertical-align: top;\n    }\n\n    .dataframe thead th {\n        text-align: right;\n    }\n</style>\n<table border=\"1\" class=\"dataframe\">\n  <thead>\n    <tr style=\"text-align: right;\">\n      <th></th>\n      <th>duration</th>\n      <th>service</th>\n      <th>flag</th>\n      <th>src_bytes</th>\n      <th>dst_bytes</th>\n      <th>hot</th>\n      <th>logged_in</th>\n      <th>num_compromised</th>\n      <th>num_root</th>\n      <th>count</th>\n      <th>...</th>\n      <th>srv_diff_host_rate</th>\n      <th>dst_host_count</th>\n      <th>dst_host_srv_count</th>\n      <th>dst_host_same_srv_rate</th>\n      <th>dst_host_diff_srv_rate</th>\n      <th>dst_host_same_src_port_rate</th>\n      <th>dst_host_srv_diff_host_rate</th>\n      <th>dst_host_serror_rate</th>\n      <th>dst_host_srv_serror_rate</th>\n      <th>dst_host_rerror_rate</th>\n    </tr>\n  </thead>\n  <tbody>\n    <tr>\n      <th>0</th>\n      <td>1.0</td>\n      <td>1.0</td>\n      <td>1.0</td>\n      <td>1.000000</td>\n      <td>1.000000</td>\n      <td>-0.0</td>\n      <td>1.0</td>\n      <td>1.0</td>\n      <td>1.0</td>\n      <td>0.863636</td>\n      <td>...</td>\n      <td>0.72</td>\n      <td>0.988189</td>\n      <td>0.988189</td>\n      <td>-0.0</td>\n      <td>1.0</td>\n      <td>-0.00</td>\n      <td>1.0</td>\n      <td>0.5</td>\n      <td>0.5</td>\n      <td>1.0</td>\n    </tr>\n    <tr>\n      <th>1</th>\n      <td>1.0</td>\n      <td>-0.0</td>\n      <td>1.0</td>\n      <td>0.843164</td>\n      <td>0.999607</td>\n      <td>1.0</td>\n      <td>-0.0</td>\n      <td>1.0</td>\n      <td>1.0</td>\n      <td>0.818182</td>\n      <td>...</td>\n      <td>1.00</td>\n      <td>0.673228</td>\n      <td>0.141732</td>\n      <td>-0.0</td>\n      <td>1.0</td>\n      <td>0.99</td>\n      <td>0.4</td>\n      <td>1.0</td>\n      <td>1.0</td>\n      <td>1.0</td>\n    </tr>\n    <tr>\n      <th>2</th>\n      <td>1.0</td>\n      <td>-0.0</td>\n      <td>1.0</td>\n      <td>0.828418</td>\n      <td>0.998039</td>\n      <td>1.0</td>\n      <td>-0.0</td>\n      <td>1.0</td>\n      <td>1.0</td>\n      <td>0.272727</td>\n      <td>...</td>\n      <td>1.00</td>\n      <td>0.712598</td>\n      <td>0.181102</td>\n      <td>-0.0</td>\n      <td>1.0</td>\n      <td>0.99</td>\n      <td>0.4</td>\n      <td>1.0</td>\n      <td>1.0</td>\n      <td>1.0</td>\n    </tr>\n    <tr>\n      <th>3</th>\n      <td>1.0</td>\n      <td>-0.0</td>\n      <td>1.0</td>\n      <td>0.838472</td>\n      <td>0.999601</td>\n      <td>1.0</td>\n      <td>-0.0</td>\n      <td>1.0</td>\n      <td>1.0</td>\n      <td>1.000000</td>\n      <td>...</td>\n      <td>1.00</td>\n      <td>0.948819</td>\n      <td>0.417323</td>\n      <td>-0.0</td>\n      <td>1.0</td>\n      <td>0.93</td>\n      <td>0.2</td>\n      <td>1.0</td>\n      <td>1.0</td>\n      <td>1.0</td>\n    </tr>\n    <tr>\n      <th>4</th>\n      <td>-0.0</td>\n      <td>1.0</td>\n      <td>1.0</td>\n      <td>0.105898</td>\n      <td>0.999750</td>\n      <td>1.0</td>\n      <td>1.0</td>\n      <td>1.0</td>\n      <td>1.0</td>\n      <td>1.000000</td>\n      <td>...</td>\n      <td>1.00</td>\n      <td>0.984252</td>\n      <td>0.984252</td>\n      <td>-0.0</td>\n      <td>1.0</td>\n      <td>0.80</td>\n      <td>1.0</td>\n      <td>0.6</td>\n      <td>0.6</td>\n      <td>1.0</td>\n    </tr>\n  </tbody>\n</table>\n<p>5 rows × 24 columns</p>\n</div>"
     },
     "execution_count": 9,
     "metadata": {},
     "output_type": "execute_result"
    }
   ],
   "source": [
    "# test cell - must be deleted \n",
    "\n",
    "df_x.head(5)"
   ]
  },
  {
   "cell_type": "markdown",
   "metadata": {
    "pycharm": {
     "name": "#%% md\n"
    }
   },
   "source": [
    "Для подальної роботи необхідно розділити вибірку на навчальну та тренувальну у співвідношення 9:1. Для цього скористаємося методом train_test_split з модулю sklearn.model_selection."
   ]
  },
  {
   "cell_type": "code",
   "execution_count": 10,
   "metadata": {},
   "outputs": [],
   "source": [
    "x_train,x_test,y_train,y_test=train_test_split(df_x,df_y,test_size=0.2,random_state=123)"
   ]
  },
  {
   "cell_type": "code",
   "execution_count": 11,
   "metadata": {},
   "outputs": [
    {
     "name": "stdout",
     "output_type": "stream",
     "text": [
      "Розміри датасетів:\n",
      " X Train\n",
      "(38, 24)\n",
      "\n",
      "\n",
      " Y Train\n",
      "(38,)\n",
      "\n",
      "\n",
      "X test\n",
      "(10, 24)\n",
      "\n",
      "\n",
      "Y Test\n",
      "(10,)\n"
     ]
    }
   ],
   "source": [
    "print(f'Розміри датасетів:\\n X Train\\n{x_train.shape}\\n\\n\\n Y Train\\n{y_train.shape}\\n\\n\\nX test\\n{x_test.shape}\\n\\n\\nY Test\\n{y_test.shape}')"
   ]
  },
  {
   "cell_type": "markdown",
   "metadata": {},
   "source": [
    "Необхідно визначити будову нейронної мережі. У вхідному шарі буде стільки нейронів, скільки параметрів ми даємо на вхід. У вихідному шарі буде 1 нейрон. Для обчислення кількості нейронів у прихованому шарі необхідно скористатися формулами для визначення меж інтервалу ефективної кількості схованих нейронів.\n",
    "$$N_h^A = round((0.4 N_x + 0.2)\\frac{\\sqrt{PN_x}}{N_x + N_y})$$ $$N_h^B = round(\\frac{2\\sqrt{PN_x}}{N_y}),$$\n",
    " - $N_h^A,N_h^B$ - межі інтервалу;\n",
    " - $N_x$ - кількість вхідних нейронів;\n",
    " - $N_y$ - кількість вхідних нейронів;\n",
    " - $P$ - кількість навчальних прикладів.\n"
   ]
  },
  {
   "cell_type": "code",
   "execution_count": 12,
   "metadata": {},
   "outputs": [
    {
     "name": "stdout",
     "output_type": "stream",
     "text": [
      "Kількість вхідних нейронів 24, межі інтервалу кількості нейронів у прихованому шарі (12.0,60.0).\n",
      "Виходячи з оптимального діапазону було обрано реалізовувати 13.0 у прихованому шарі\n"
     ]
    }
   ],
   "source": [
    "import math\n",
    "# активаційна функція сигноїд\n",
    "sign = lambda x: 1/(1+math.exp(-x))\n",
    "\n",
    "# кількість вхідних нейронів, вихідних 1\n",
    "P, N_x = x_train.shape\n",
    "N_y = 1\n",
    "# кількість нейронів у прихованому шарі\n",
    "N_hA = (0.4*N_x+0.2) * ((math.sqrt(P*N_x))/(N_y+N_x))\n",
    "N_hB = (2*math.sqrt(P*N_x)/N_y)\n",
    "\n",
    "\n",
    "\n",
    "print(f'Kількість вхідних нейронів {N_x}, межі інтервалу кількості нейронів у прихованому шарі ({round(N_hA,0)},{round(N_hB,0)}).\\nВиходячи з оптимального діапазону було обрано реалізовувати {round(N_hA,0)+1} у прихованому шарі')\n",
    "\n",
    "hid = int(round(N_hA,0)+1)\n"
   ]
  },
  {
   "cell_type": "code",
   "execution_count": 27,
   "metadata": {
    "pycharm": {
     "name": "#%%\n"
    }
   },
   "outputs": [
    {
     "name": "stdout",
     "output_type": "stream",
     "text": [
      "Епоха:  1\n",
      "Похибка:  inf\n",
      "Епоха:  100\n",
      "Похибка:  inf\n",
      "Епоха:  200\n",
      "Похибка:  inf\n",
      "Епоха:  400\n",
      "Похибка:  inf\n",
      "Епоха:  500\n",
      "Похибка:  inf\n"
     ]
    }
   ],
   "source": [
    "\n",
    "# ДШП\n",
    "def train(x, y, w1, w2,hid,st):\n",
    "    temp = []\n",
    "#     будуємо прихований шар - множимо вхідні \n",
    "# дані на відповідні вагові коефіціенти\n",
    "    hidden_layer = np.dot(x, w1)\n",
    "#     дізнаємося значення активаційної ф-ї для прихованого та вихідного шарів\n",
    "    y_s = [sign(x_s) for x_s in hidden_layer]\n",
    "    out = np.dot(y_s, w2)\n",
    "    y_s.append(sign(out))\n",
    "#     вираховуємо абсолютну похибку ітерації\n",
    "    error = abs((y - y_s[-1]) / y)\n",
    "    q13 = y_s[-1] * (1 - y_s[-1]) * (y - y_s[-1])\n",
    "    # градієнтний спуск для кожного важка - приріст функції\n",
    "    for k in range(hid):\n",
    "        b = q13 * y_s[k]\n",
    "        temp.append(w2[k] + b)\n",
    "    for i in range(hid):\n",
    "        q = y_s[i] * (1 - y_s[i]) * q13 * w2[i]\n",
    "        for k in range(st):\n",
    "            b = q * x[k]\n",
    "            w1[k, i] += b\n",
    "    w2 = []\n",
    "    w2.extend(temp)\n",
    "    return w1, w2, y_s[-1], error\n",
    "\n",
    "\n",
    "# функція реалізації онлайн тренування з епохами(ітераціями)\n",
    "'''\n",
    "запускаємо цикл тренування ДШП(максимальна кількість ітерацій 500)\n",
    "Для кожної ітерації виводиться помилка та номер ітерації(епохи)\n",
    "'''\n",
    "def online(x, y, w1, w2, hid, st):\n",
    "    _y = []\n",
    "    train_err = []\n",
    "    epoch = 1 \n",
    "    while epoch < 501:\n",
    "        tempres, temperr = [], []\n",
    "        for k in x.index:\n",
    "            w1, w2, result, error = train(x.loc[k, :], y[k], w1, w2, hid, st)\n",
    "            tempres.append(result)\n",
    "            temperr.append(error)\n",
    "        if epoch in [1, 100, 200,400, 500]:\n",
    "            print(\"Епоха: \", epoch)\n",
    "            print(\"Похибка: \", error)\n",
    "        _y.append(tempres)\n",
    "        train_err.append(temperr)\n",
    "        epoch += 1\n",
    "    return w1, w2\n",
    "\n",
    "# ініціалізація вагів\n",
    "w_1 = np.random.rand(N_x, hid)\n",
    "\n",
    "w_2 = np.random.rand(hid)\n",
    "\n",
    "# результат тренування ДШП\n",
    "w = online(x_train.iloc[:], y_train.iloc[:], w_1, w_2, hid, N_x)\n"
   ]
  },
  {
   "cell_type": "code",
   "execution_count": null,
   "metadata": {},
   "outputs": [],
   "source": [
    "# натренована модель для розпізнавання\n",
    "def model_(x, w1, w2):\n",
    "    y_pred = []\n",
    "    for i in range(len(x)):\n",
    "        hidden_layer = np.dot(x.iloc[i:i+1, :], w1)\n",
    "        y_s = [sign(x_s) for x_s in hidden_layer[0]]\n",
    "        out = np.dot(y_s, w2)\n",
    "        res = sign(out)\n",
    "        y_s.append(res)\n",
    "        y_pred.append(res)\n",
    "    return y_pred\n",
    "\n",
    "# передбачені у для тренувальних та тестових даних\n",
    "y_pred_test = model_(x_test.iloc[:], w[0], w[1])\n",
    "y_pred_train = model_(x_train.iloc[:], w[0], w[1])\n",
    "\n",
    "y_pred_test = [abs(round(x)) for x in y_pred_test]\n",
    "y_pred_train = [abs(round(x)) for x in y_pred_train]\n",
    "\n",
    "test_guess = [abs(list(y_test)[i])==y_pred_test[i] for i in range(len(y_test))]\n",
    "train_guess = [abs(list(y_train)[i])==y_pred_train[i] for i in range(len(y_train))]\n",
    "\n",
    "res1 = {'Yr': y_train, \n",
    "        'Y predicted': y_pred_train,\n",
    "       'Рівні': train_guess}\n",
    "    \n",
    "result1 = pd.DataFrame(res1)\n",
    "res2 = {'Yr': y_test, \n",
    "    'Y predicted': y_pred_test,\n",
    "       'Рівні': test_guess}\n",
    "\n",
    "result2 = pd.DataFrame(res2)\n",
    "\n",
    "print(f'Для тестових даних: \\n{result2}\\n\\n Похибка передбачення {len(result2[result2[\"Рівні\"]==False])/len(result2)}\\n\\nДля тренувальних даних: \\n{result1}\\n\\n Похибка передбачення {len(result2[result2[\"Рівні\"]==False])/len(result2)}')"
   ]
  },
  {
   "cell_type": "markdown",
   "metadata": {
    "pycharm": {
     "name": "#%% md\n"
    }
   },
   "source": [
    "### Висновки:\n",
    "У ході лабораторної роботи було відпрацьовано здобуті у ході 1 та 2  лабораторних робіть навички. Для роботи ДШП попередньо було почищено, збалансовано та нормалізовані дані. Точність розпізнавання побудованої моделі дуже висока. Похибку було пораховано за формулою кількість неправильно розпізнаних/кількість тестових прикладів і вона сягала 0. Як для тестових, так і для тренувальниї даних. Розподіл елементів по вибірках відбувався за допомогою рандомайзеру."
   ]
  }
 ],
 "metadata": {
  "kernelspec": {
   "display_name": "Python 3 (ipykernel)",
   "language": "python",
   "name": "python3"
  },
  "language_info": {
   "codemirror_mode": {
    "name": "ipython",
    "version": 3
   },
   "file_extension": ".py",
   "mimetype": "text/x-python",
   "name": "python",
   "nbconvert_exporter": "python",
   "pygments_lexer": "ipython3",
   "version": "3.10.2"
  }
 },
 "nbformat": 4,
 "nbformat_minor": 1
}